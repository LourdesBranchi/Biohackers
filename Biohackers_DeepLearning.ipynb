{
  "nbformat": 4,
  "nbformat_minor": 0,
  "metadata": {
    "colab": {
      "provenance": []
    },
    "kernelspec": {
      "name": "python3",
      "display_name": "Python 3"
    },
    "language_info": {
      "name": "python"
    }
  },
  "cells": [
    {
      "cell_type": "code",
      "source": [
        "import numpy as np\n",
        "import matplotlib.pyplot as plt\n",
        "from scipy import signal\n",
        "import warnings\n",
        "import tensorflow as tf\n",
        "warnings.filterwarnings(\"ignore\")\n",
        "\n",
        "from google.colab import drive\n",
        "drive.mount('/content/drive')"
      ],
      "metadata": {
        "colab": {
          "base_uri": "https://localhost:8080/"
        },
        "id": "0Kx07bV3lW4S",
        "outputId": "20d07351-bad6-4e42-facd-6985b8768e80"
      },
      "execution_count": 1,
      "outputs": [
        {
          "output_type": "stream",
          "name": "stdout",
          "text": [
            "Mounted at /content/drive\n"
          ]
        }
      ]
    },
    {
      "cell_type": "code",
      "source": [
        "path = '/content/drive/MyDrive/Biohackers/Hackaton/Dataset Binario'"
      ],
      "metadata": {
        "id": "ycakmlRKlnvV"
      },
      "execution_count": 2,
      "outputs": []
    },
    {
      "cell_type": "code",
      "execution_count": 3,
      "metadata": {
        "id": "XBCJe1CslMwk"
      },
      "outputs": [],
      "source": [
        "# Cargar los arrays numpy desde los archivos .npy\n",
        "train_images = np.load(f'{path}/training_set_bin/train_images_bin.npy')\n",
        "train_labels = np.load(f'{path}/training_set_bin/train_labels_bin.npy')\n",
        "val_images = np.load(f'{path}/val_set_bin/val_images_bin.npy')\n",
        "val_labels = np.load(f'{path}/val_set_bin/val_labels_bin.npy')\n",
        "test_images = np.load(f'{path}/test_set_bin/test_images_bin.npy')\n",
        "test_labels = np.load(f'{path}/test_set_bin/test_labels_bin.npy')"
      ]
    },
    {
      "cell_type": "code",
      "source": [
        "def Convertir1(lista):\n",
        "  for i in range(len(lista)):\n",
        "    if(lista[i] == 4): lista[i] = 1\n",
        "  return lista"
      ],
      "metadata": {
        "id": "4EMdP9NCoWW3"
      },
      "execution_count": 11,
      "outputs": []
    },
    {
      "cell_type": "code",
      "source": [
        "train_labels = np.array(Convertir1(train_labels))\n",
        "val_labels = np.array(Convertir1(val_labels))\n",
        "test_labels = np.array(Convertir1(test_labels))"
      ],
      "metadata": {
        "id": "nL13zIhJohyp"
      },
      "execution_count": 36,
      "outputs": []
    },
    {
      "cell_type": "code",
      "source": [
        "import numpy as np\n",
        "\n",
        "def crop_image(image):\n",
        "    \"\"\"\n",
        "    Recorta una imagen de 299x299 a 224x224 centrándola.\n",
        "\n",
        "    Args:\n",
        "    - image: numpy array. La imagen de entrada de dimensiones 299x299x3.\n",
        "\n",
        "    Returns:\n",
        "    - cropped_image: numpy array. La imagen recortada de dimensiones 224x224x3.\n",
        "    \"\"\"\n",
        "    # Determina el área que deseas recortar\n",
        "    start_x = (299 - 224) // 2  # Coordenada x de inicio para el recorte\n",
        "    start_y = (299 - 224) // 2  # Coordenada y de inicio para el recorte\n",
        "    end_x = start_x + 224  # Coordenada x de fin para el recorte\n",
        "    end_y = start_y + 224  # Coordenada y de fin para el recorte\n",
        "\n",
        "    # Recorta la imagen\n",
        "    cropped_image = image[start_x:end_x, start_y:end_y, :]\n",
        "\n",
        "    return cropped_image\n",
        "\n",
        "train_resized = []\n",
        "for i in range(len(train_images)):\n",
        "  train_resized.append(crop_image(train_images[i]))\n"
      ],
      "metadata": {
        "id": "oFAM2G0t2N5t"
      },
      "execution_count": 4,
      "outputs": []
    },
    {
      "cell_type": "code",
      "source": [
        "val_resized = []\n",
        "for i in range(len(val_images)):\n",
        "  val_resized.append(crop_image(val_images[i]))"
      ],
      "metadata": {
        "id": "3HXUkciZ3DcD"
      },
      "execution_count": 38,
      "outputs": []
    },
    {
      "cell_type": "code",
      "source": [
        "test_resized = []\n",
        "for i in range(len(test_images)):\n",
        "  test_resized.append(crop_image(test_images[i]))"
      ],
      "metadata": {
        "id": "Vrlgx7SY3V91"
      },
      "execution_count": 12,
      "outputs": []
    },
    {
      "cell_type": "code",
      "source": [
        "train_array = np.array(train_resized)\n",
        "val_array = np.array(val_resized)\n",
        "test_array = np.array(test_resized)"
      ],
      "metadata": {
        "id": "VPtVo3td9p2J"
      },
      "execution_count": 6,
      "outputs": []
    },
    {
      "cell_type": "code",
      "source": [
        "test_array[0].shape"
      ],
      "metadata": {
        "colab": {
          "base_uri": "https://localhost:8080/"
        },
        "id": "AyXRFmcyLFPI",
        "outputId": "6f61b85c-103d-4c96-ce0c-37b04449bfce"
      },
      "execution_count": 8,
      "outputs": [
        {
          "output_type": "execute_result",
          "data": {
            "text/plain": [
              "(224, 224, 1)"
            ]
          },
          "metadata": {},
          "execution_count": 8
        }
      ]
    },
    {
      "cell_type": "markdown",
      "source": [
        "## Modelo"
      ],
      "metadata": {
        "id": "DVI0uwOQC3OD"
      }
    },
    {
      "cell_type": "code",
      "source": [
        "import torch\n",
        "from torch.utils.data import DataLoader, TensorDataset\n",
        "\n",
        "# Combina tus datos de entrenamiento y validación en un solo conjunto de datos\n",
        "# Convertir las matrices numpy en tensores de PyTorch\n",
        "train_images_tensor = torch.tensor(train_array)\n",
        "val_images_tensor = torch.tensor(val_array)\n",
        "train_labels_tensor = torch.tensor(train_labels)\n",
        "val_labels_tensor = torch.tensor(val_labels)\n",
        "\n",
        "# Concatenar las imágenes para tener 3 canales\n",
        "train_3_images = torch.cat([train_images_tensor] * 3, dim=3)\n",
        "val_3_images = torch.cat([val_images_tensor] * 3, dim=3)\n",
        "\n",
        "# Preparar los datos para DataLoader\n",
        "train_data = []\n",
        "for i in range(len(train_3_images)):\n",
        "    image = train_3_images[i]\n",
        "    train_data.append(image.permute(2, 0, 1))  # Permuta las dimensiones para tener el formato correcto (C x H x W)\n",
        "\n",
        "val_data = []\n",
        "for i in range(len(val_3_images)):\n",
        "    image = val_3_images[i]\n",
        "    val_data.append(image.permute(2, 0, 1))\n",
        "\n",
        "# Stack los datos en tensores\n",
        "train_tensor = torch.stack(train_data)\n",
        "val_tensor = torch.stack(val_data)\n",
        "\n",
        "# Verificar las dimensiones del tensor de entrenamiento y validación\n",
        "print(\"Dimensiones del tensor de entrenamiento:\", train_tensor.shape)\n",
        "print(\"Dimensiones del tensor de validación:\", val_tensor.shape)\n",
        "\n",
        "# Crear el conjunto de datos utilizando TensorDataset\n",
        "train_dataset = TensorDataset(train_tensor, train_labels_tensor)\n",
        "val_dataset = TensorDataset(val_tensor, val_labels_tensor)\n",
        "\n",
        "# Verificar las dimensiones del dataset de entrenamiento y validación\n",
        "print(\"Longitud del dataset de entrenamiento:\", len(train_dataset))\n",
        "print(\"Longitud del dataset de validación:\", len(val_dataset))"
      ],
      "metadata": {
        "colab": {
          "base_uri": "https://localhost:8080/"
        },
        "id": "JKC8I4m1EtzO",
        "outputId": "30d732c1-0c81-4c0a-acd8-f18ecf20dd0a"
      },
      "execution_count": 76,
      "outputs": [
        {
          "output_type": "stream",
          "name": "stdout",
          "text": [
            "Dimensiones del tensor de entrenamiento: torch.Size([400, 3, 224, 224])\n",
            "Dimensiones del tensor de validación: torch.Size([50, 3, 224, 224])\n",
            "Longitud del dataset de entrenamiento: 400\n",
            "Longitud del dataset de validación: 50\n"
          ]
        }
      ]
    },
    {
      "cell_type": "code",
      "source": [
        "import torch\n",
        "import torch.nn as nn\n",
        "import torch.optim as optim\n",
        "from torchvision import models\n",
        "from torch.utils.data import DataLoader, TensorDataset\n",
        "from torchsummary import summary\n",
        "from sklearn.model_selection import KFold\n",
        "import numpy as np\n",
        "\n",
        "# Define los hiperparámetros\n",
        "num_classes = 1\n",
        "learning_rate = 0.01\n",
        "batch_size = 32\n",
        "num_epochs = 2\n",
        "num_folds = 5  # Número de pliegues para la validación cruzada\n",
        "\n",
        "# Supongamos que tienes tus datos train_dataset y val_dataset\n",
        "\n",
        "# Inicializa el validador cruzado estratificado\n",
        "skf = KFold(n_splits=num_folds, shuffle=True, random_state=42)\n",
        "\n",
        "# Lista para almacenar las métricas de rendimiento en cada pliegue\n",
        "validation_accuracies = []\n",
        "\n",
        "# Realiza la validación cruzada\n",
        "for fold, (train_idx, val_idx) in enumerate(skf.split(train_dataset, train_labels)):\n",
        "    print(f'Fold {fold + 1}/{num_folds}')\n",
        "\n",
        "\n",
        "    # Extraer datos y etiquetas de entrenamiento y validación para este pliegue\n",
        "    X_train_fold, y_train_fold = train_dataset[train_idx]\n",
        "    X_val_fold, y_val_fold = train_dataset[val_idx]\n",
        "\n",
        "    # Crear DataLoader para los conjuntos de datos de entrenamiento y validación de este pliegue\n",
        "    train_loader = DataLoader(TensorDataset(X_train_fold, y_train_fold), batch_size=batch_size, shuffle=True)\n",
        "    val_loader = DataLoader(TensorDataset(X_val_fold, y_val_fold), batch_size=batch_size, shuffle=False)\n",
        "\n",
        "    # Crea una instancia del modelo VGG16 pre-entrenado\n",
        "    vgg16 = models.vgg16(pretrained=True)\n",
        "\n",
        "    # Congela los parámetros de todas las capas\n",
        "    for param in vgg16.parameters():\n",
        "        param.requires_grad = False\n",
        "\n",
        "    # Modifica la última capa completamente conectada para adaptarse a tu problema de clasificación binaria\n",
        "    vgg16.classifier[6] = nn.Linear(4096, num_classes)\n",
        "\n",
        "    # Añadir dropout\n",
        "    vgg16.classifier.add_module(\"7\", nn.Dropout(p=0.5))  # Agregar dropout con probabilidad 0.5\n",
        "\n",
        "    # Define la función de pérdida y el optimizador\n",
        "    criterion = nn.BCELoss()\n",
        "    optimizer = optim.Adam(vgg16.parameters(), lr=learning_rate, weight_decay=0.001)\n",
        "\n",
        "    # Entrenamiento del modelo\n",
        "    for epoch in range(num_epochs):\n",
        "        vgg16.train()\n",
        "        epoch_loss = 0.0\n",
        "        for batch_data, batch_labels in train_loader:\n",
        "            optimizer.zero_grad()\n",
        "            batch_data = batch_data.to(torch.float32)\n",
        "            outputs = vgg16(batch_data)\n",
        "            outputs = torch.squeeze(outputs, dim=1)  # Eliminar la dimensión extra en la salida\n",
        "            outputs = torch.sigmoid(outputs)  # Aplicar la función de activación sigmoid\n",
        "            loss = criterion(outputs, batch_labels.float())\n",
        "            loss.backward()\n",
        "            optimizer.step()\n",
        "            epoch_loss += loss.item()\n",
        "        print(f'Epoch [{epoch+1}/{num_epochs}], Loss: {epoch_loss / len(train_loader):.4f}')\n",
        "\n",
        "    # Validación del modelo\n",
        "    vgg16.eval()\n",
        "    correct = 0\n",
        "    total = 0\n",
        "    with torch.no_grad():\n",
        "        for batch_data, batch_labels in val_loader:\n",
        "            batch_data = batch_data.to(torch.float32)\n",
        "            outputs = vgg16(batch_data)\n",
        "            outputs = torch.squeeze(outputs, dim=1)  # Eliminar la dimensión extra en la salida\n",
        "            outputs = torch.sigmoid(outputs)  # Aplicar la función de activación sigmoid\n",
        "            predicted = (outputs > 0.5).float()  # Convertir las probabilidades a etiquetas (0 o 1)\n",
        "            total += batch_labels.size(0)\n",
        "            correct += (predicted == batch_labels).sum().item()\n",
        "    validation_accuracy = correct / total\n",
        "    validation_accuracies.append(validation_accuracy)\n",
        "    print(f'Validation Accuracy: {validation_accuracy * 100:.2f}%')\n",
        "\n",
        "# Calcula la precisión media de todos los pliegues\n",
        "mean_validation_accuracy = np.mean(validation_accuracies)\n",
        "print(\"Mean validation accuracy across all folds:\", mean_validation_accuracy)\n"
      ],
      "metadata": {
        "colab": {
          "base_uri": "https://localhost:8080/"
        },
        "id": "ijDErNip6FzC",
        "outputId": "5c9d9f7a-e87c-4d14-d235-9e441cb8d80f"
      },
      "execution_count": 80,
      "outputs": [
        {
          "output_type": "stream",
          "name": "stdout",
          "text": [
            "Fold 1/5\n",
            "Epoch [1/2], Loss: 13.6158\n",
            "Epoch [2/2], Loss: 9.8861\n",
            "Validation Accuracy: 66.25%\n",
            "Fold 2/5\n",
            "Epoch [1/2], Loss: 18.9634\n",
            "Epoch [2/2], Loss: 22.2454\n",
            "Validation Accuracy: 47.50%\n",
            "Fold 3/5\n",
            "Epoch [1/2], Loss: 8.6994\n",
            "Epoch [2/2], Loss: 8.2075\n",
            "Validation Accuracy: 82.50%\n",
            "Fold 4/5\n",
            "Epoch [1/2], Loss: 14.1742\n",
            "Epoch [2/2], Loss: 9.0075\n",
            "Validation Accuracy: 67.50%\n",
            "Fold 5/5\n",
            "Epoch [1/2], Loss: 9.6271\n",
            "Epoch [2/2], Loss: 9.6260\n",
            "Validation Accuracy: 57.50%\n",
            "Mean validation accuracy across all folds: 0.6425000000000001\n"
          ]
        }
      ]
    },
    {
      "cell_type": "code",
      "source": [
        "# Guardar el modelo\n",
        "torch.save(vgg16.state_dict(), f'{path}/modelo_binario_entrenado2.pth')"
      ],
      "metadata": {
        "id": "zczXxDCLaKwx"
      },
      "execution_count": 85,
      "outputs": []
    },
    {
      "cell_type": "markdown",
      "source": [
        "## Test"
      ],
      "metadata": {
        "id": "UAFykzWvMiP6"
      }
    },
    {
      "cell_type": "code",
      "source": [
        "import torch\n",
        "from torch.utils.data import DataLoader, TensorDataset\n",
        "\n",
        "# Combina tus datos de entrenamiento y validación en un solo conjunto de datos\n",
        "# Convertir las matrices numpy en tensores de PyTorch\n",
        "test_images_tensor = torch.tensor(test_array)\n",
        "test_labels_tensor = torch.tensor(test_labels)\n",
        "\n",
        "# Concatenar las imágenes para tener 3 canales\n",
        "test_3_images = torch.cat([test_images_tensor] * 3, dim=3)\n",
        "\n",
        "# Preparar los datos para DataLoader\n",
        "test_data = []\n",
        "for i in range(len(test_3_images)):\n",
        "    image = test_3_images[i]\n",
        "    test_data.append(image.permute(2, 0, 1))  # Permuta las dimensiones para tener el formato correcto (C x H x W)\n",
        "print(len(test_data))\n",
        "\n",
        "# Stack los datos en tensores\n",
        "test_tensor = torch.stack(test_data)\n",
        "print(len(test_tensor))\n",
        "# Verificar las dimensiones del tensor de entrenamiento y validación\n",
        "print(\"Dimensiones del tensor de entrenamiento:\", test_tensor.shape)\n",
        "\n",
        "# Crear el conjunto de datos utilizando TensorDataset\n",
        "test_dataset = TensorDataset(test_tensor, test_labels_tensor)\n",
        "\n",
        "# Verificar las dimensiones del dataset de entrenamiento y validación\n",
        "print(\"Longitud del dataset de entrenamiento:\", len(test_dataset))"
      ],
      "metadata": {
        "colab": {
          "base_uri": "https://localhost:8080/"
        },
        "id": "HyhojgkSbNKv",
        "outputId": "7f191019-829d-427f-a4d2-c2c88e2be0b9"
      },
      "execution_count": 32,
      "outputs": [
        {
          "output_type": "stream",
          "name": "stdout",
          "text": [
            "50\n",
            "50\n",
            "Dimensiones del tensor de entrenamiento: torch.Size([50, 3, 224, 224])\n",
            "Longitud del dataset de entrenamiento: 50\n"
          ]
        }
      ]
    },
    {
      "cell_type": "code",
      "source": [
        "test_loader = DataLoader(test_dataset, batch_size=batch_size, shuffle=False)\n"
      ],
      "metadata": {
        "id": "HLZ7AOEieMIs"
      },
      "execution_count": 83,
      "outputs": []
    },
    {
      "cell_type": "code",
      "source": [
        "(test_loader)"
      ],
      "metadata": {
        "colab": {
          "base_uri": "https://localhost:8080/"
        },
        "id": "qw2gq8qTH8oT",
        "outputId": "385327f0-c7b8-40b0-8d5f-2f3786d4b5d8"
      },
      "execution_count": 91,
      "outputs": [
        {
          "output_type": "execute_result",
          "data": {
            "text/plain": [
              "<torch.utils.data.dataloader.DataLoader at 0x7c9ab713a4d0>"
            ]
          },
          "metadata": {},
          "execution_count": 91
        }
      ]
    },
    {
      "cell_type": "code",
      "source": [
        "import torch\n",
        "import torch.nn as nn\n",
        "from torchvision import models\n",
        "\n",
        "# Definir la arquitectura de la red\n",
        "vgg16_modificada = models.vgg16(pretrained=False)\n",
        "vgg16_modificada.classifier[6] = nn.Linear(4096, 1)  # Asegúrate de que num_classes sea igual al número de clases que tenías cuando entrenaste el modelo\n",
        "\n",
        "# Cargar los pesos del modelo\n",
        "vgg16_modificada.load_state_dict(torch.load(f'/content/drive/MyDrive/Biohackers/Hackaton/Dataset Binario/modelo_binario_entrenado2.pth'))\n",
        "vgg16_modificada.eval()\n",
        "# Evaluar el modelo en el conjunto de datos de prueba\n",
        "correct = 0\n",
        "total = 0\n",
        "predictions = []\n",
        "with torch.no_grad():\n",
        "    for batch_data, batch_labels in test_loader:\n",
        "        batch_data = batch_data.to(torch.float32)\n",
        "        outputs = vgg16(batch_data)\n",
        "        outputs = torch.squeeze(outputs, dim=1)\n",
        "        outputs = torch.sigmoid(outputs)\n",
        "        predicted = (outputs > 0.5).float()\n",
        "        predictions.append(predicted)\n",
        "        total += batch_labels.size(0)\n",
        "        correct += (predicted == batch_labels).sum().item()\n",
        "\n",
        "test_accuracy = correct / total\n",
        "print(f'Test Accuracy: {test_accuracy * 100:.2f}%')\n",
        "\n",
        "# Concatenar todas las predicciones y etiquetas\n",
        "#predictions = torch.cat(predictions)\n",
        "#test_labels = test_labels_tensor\n",
        "\n",
        "# Calcular la precisión\n",
        "#accuracy = (predictions == test_labels).float().mean()\n",
        "#print(f'Precisión del modelo en los datos de prueba: {accuracy.item()*100:.2f}%')\n"
      ],
      "metadata": {
        "colab": {
          "base_uri": "https://localhost:8080/"
        },
        "id": "NUgU6vxKDK3W",
        "outputId": "9d7ab76e-f6c8-44ae-d5d8-b9cd5b4cd44f"
      },
      "execution_count": 93,
      "outputs": [
        {
          "output_type": "stream",
          "name": "stdout",
          "text": [
            "Test Accuracy: 68.00%\n"
          ]
        }
      ]
    },
    {
      "cell_type": "code",
      "source": [
        "predictions = torch.cat(predictions)\n"
      ],
      "metadata": {
        "id": "15clYuXPKHiA"
      },
      "execution_count": 94,
      "outputs": []
    },
    {
      "cell_type": "code",
      "source": [
        "import numpy as np\n",
        "from sklearn.metrics import accuracy_score, precision_score, recall_score, f1_score, confusion_matrix\n",
        "\n",
        "# Supongamos que 'y_true' son las etiquetas verdaderas y 'y_pred' son las etiquetas predichas por el modelo\n",
        "\n",
        "# Ejemplo de etiquetas verdaderas y predichas\n",
        "y_true = test_labels\n",
        "y_pred = predictions\n",
        "\n",
        "# Calcular la precisión\n",
        "precision = precision_score(y_true, y_pred, average='macro')\n",
        "\n",
        "# Calcular la exhaustividad\n",
        "recall = recall_score(y_true, y_pred, average='macro')\n",
        "\n",
        "# Calcular el valor-F1\n",
        "f1 = f1_score(y_true, y_pred, average='macro')\n",
        "\n",
        "# Calcular la precisión global (accuracy)\n",
        "accuracy = accuracy_score(y_true, y_pred)\n",
        "\n",
        "# Calcular la matriz de confusión\n",
        "conf_matrix = confusion_matrix(y_true, y_pred)\n",
        "\n",
        "print(\"Precision:\", precision)\n",
        "print(\"Recall:\", recall)\n",
        "print(\"F1-score:\", f1)\n",
        "print(\"Accuracy:\", accuracy)\n",
        "print(\"Confusion Matrix:\")\n",
        "print(conf_matrix)\n"
      ],
      "metadata": {
        "colab": {
          "base_uri": "https://localhost:8080/"
        },
        "id": "ndh9VB1bgHk4",
        "outputId": "02f3fb6c-9b7b-4477-c55e-5f73cde57a34"
      },
      "execution_count": 95,
      "outputs": [
        {
          "output_type": "stream",
          "name": "stdout",
          "text": [
            "Precision: 0.8222222222222222\n",
            "Recall: 0.6190476190476191\n",
            "F1-score: 0.5841995841995842\n",
            "Accuracy: 0.68\n",
            "Confusion Matrix:\n",
            "[[ 5 16]\n",
            " [ 0 29]]\n"
          ]
        }
      ]
    },
    {
      "cell_type": "code",
      "source": [
        "import seaborn as sns\n",
        "\n",
        "# Definir etiquetas de las clases\n",
        "labels = ['Normal', 'Masa Maligna']\n",
        "#n, cb, mb, cm, mm\n",
        "# Crear el mapa de calor de la matriz de confusión\n",
        "plt.figure(figsize=(8, 6))\n",
        "sns.heatmap(conf_matrix, annot=True, fmt='d', cmap='Blues', xticklabels=labels, yticklabels=labels)\n",
        "plt.xlabel('Etiquetas Predichas')\n",
        "plt.ylabel('Etiquetas Verdaderas')\n",
        "plt.title('Matriz de Confusión')\n",
        "plt.show()"
      ],
      "metadata": {
        "colab": {
          "base_uri": "https://localhost:8080/",
          "height": 564
        },
        "id": "VDhGLXIEg48b",
        "outputId": "77b80cf2-61a4-4c56-a908-626aa3984194"
      },
      "execution_count": 96,
      "outputs": [
        {
          "output_type": "display_data",
          "data": {
            "text/plain": [
              "<Figure size 800x600 with 2 Axes>"
            ],
            "image/png": "[encoded data removed]"
          },
          "metadata": {}
        }
      ]
    }
  ]
}